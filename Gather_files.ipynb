{
 "cells": [
  {
   "cell_type": "code",
   "execution_count": 1,
   "metadata": {},
   "outputs": [],
   "source": [
    "import pandas as pd"
   ]
  },
  {
   "cell_type": "markdown",
   "metadata": {},
   "source": [
    "# Collect data collection from all partners\n",
    "   \n",
    "- P1 - Tübingen\n",
    "- P2 - Montreal\n",
    "- P3 - Nijmegen\n",
    "- P4 - Pisa\n",
    "- P6 - Istanbul\n",
    "- P7 - Paris\n",
    "- P8 - Cambridge\n",
    "\n"
   ]
  },
  {
   "cell_type": "markdown",
   "metadata": {},
   "source": [
    "## SACS"
   ]
  },
  {
   "cell_type": "code",
   "execution_count": 4,
   "metadata": {
    "scrolled": true
   },
   "outputs": [
    {
     "ename": "NameError",
     "evalue": "name 'p7_sacs' is not defined",
     "output_type": "error",
     "traceback": [
      "\u001b[0;31m---------------------------------------------------------------------------\u001b[0m",
      "\u001b[0;31mNameError\u001b[0m                                 Traceback (most recent call last)",
      "\u001b[0;32m<ipython-input-4-59f1610170e1>\u001b[0m in \u001b[0;36m<module>\u001b[0;34m\u001b[0m\n\u001b[1;32m      1\u001b[0m \u001b[0;31m# clean variantid naming for p7\u001b[0m\u001b[0;34m\u001b[0m\u001b[0;34m\u001b[0m\u001b[0;34m\u001b[0m\u001b[0m\n\u001b[0;32m----> 2\u001b[0;31m \u001b[0mp7_sacs\u001b[0m\u001b[0;34m[\u001b[0m\u001b[0;34m\"Variant ID \\n(consecutive number)\"\u001b[0m\u001b[0;34m]\u001b[0m \u001b[0;34m=\u001b[0m \u001b[0mp7_sacs\u001b[0m\u001b[0;34m[\u001b[0m\u001b[0;34m\"Variant ID \\n(consecutive number)\"\u001b[0m\u001b[0;34m]\u001b[0m\u001b[0;34m.\u001b[0m\u001b[0mastype\u001b[0m\u001b[0;34m(\u001b[0m\u001b[0mstr\u001b[0m\u001b[0;34m)\u001b[0m\u001b[0;34m\u001b[0m\u001b[0;34m\u001b[0m\u001b[0m\n\u001b[0m\u001b[1;32m      3\u001b[0m \u001b[0;32mfor\u001b[0m \u001b[0midx\u001b[0m\u001b[0;34m,\u001b[0m \u001b[0mrow\u001b[0m \u001b[0;32min\u001b[0m \u001b[0mp7_sacs\u001b[0m\u001b[0;34m.\u001b[0m\u001b[0miterrows\u001b[0m\u001b[0;34m(\u001b[0m\u001b[0;34m)\u001b[0m\u001b[0;34m:\u001b[0m\u001b[0;34m\u001b[0m\u001b[0;34m\u001b[0m\u001b[0m\n\u001b[1;32m      4\u001b[0m     \u001b[0mbefore\u001b[0m \u001b[0;34m=\u001b[0m \u001b[0mrow\u001b[0m\u001b[0;34m[\u001b[0m\u001b[0;34m'Variant ID \\n(consecutive number)'\u001b[0m\u001b[0;34m]\u001b[0m\u001b[0;34m\u001b[0m\u001b[0;34m\u001b[0m\u001b[0m\n\u001b[1;32m      5\u001b[0m     \u001b[0mp7_sacs\u001b[0m\u001b[0;34m.\u001b[0m\u001b[0mat\u001b[0m\u001b[0;34m[\u001b[0m\u001b[0midx\u001b[0m\u001b[0;34m,\u001b[0m \u001b[0;34m'Variant ID \\n(consecutive number)'\u001b[0m\u001b[0;34m]\u001b[0m \u001b[0;34m=\u001b[0m \u001b[0;34m\"P7_SACS_Paris_\"\u001b[0m \u001b[0;34m+\u001b[0m \u001b[0mstr\u001b[0m\u001b[0;34m(\u001b[0m\u001b[0mbefore\u001b[0m\u001b[0;34m)\u001b[0m\u001b[0;34m\u001b[0m\u001b[0;34m\u001b[0m\u001b[0m\n",
      "\u001b[0;31mNameError\u001b[0m: name 'p7_sacs' is not defined"
     ]
    }
   ],
   "source": [
    "# clean variantid naming for p7\n",
    "p7_sacs[\"Variant ID \\n(consecutive number)\"] = p7_sacs[\"Variant ID \\n(consecutive number)\"].astype(str)\n",
    "for idx, row in p7_sacs.iterrows():\n",
    "    before = row['Variant ID \\n(consecutive number)']\n",
    "    p7_sacs.at[idx, 'Variant ID \\n(consecutive number)'] = \"P7_SACS_Paris_\" + str(before)\n",
    "    \n",
    "def get_variant_id(df, l_idx):\n",
    "    return \",\".join([row[\"Variant ID \\n(consecutive number)\"] for idx, row in df.iterrows() if idx in l_idx])\n",
    "\n",
    "\n",
    "all_sampl = [p7_sacs[p7_sacs[\"local subject ID\"]==sample] for sample in p7_sacs[\"local subject ID\"].unique()]\n",
    "for subdf in all_sampl:\n",
    "    for idx, row in subdf.iterrows():\n",
    "        all_idx = [idx for idx, row in subdf.iterrows() if row['Het / Hom']]\n",
    "        if len(subdf.index)==1:\n",
    "            p7_sacs.at[idx, \"Compound het with Variant ID\\n(enter variant ID, 'N/A' or 'unknown')\"] = \"\"\n",
    "        elif row['Het / Hom']==\"hom\":\n",
    "            p7_sacs.at[idx, \"Compound het with Variant ID\\n(enter variant ID, 'N/A' or 'unknown')\"] = \"\"\n",
    "        else:\n",
    "            all_idx.remove(idx)\n",
    "            p7_sacs.at[idx, \"Compound het with Variant ID\\n(enter variant ID, 'N/A' or 'unknown')\"] = get_variant_id(subdf, all_idx)\n",
    "            \n",
    "        \n",
    "        \n"
   ]
  },
  {
   "cell_type": "code",
   "execution_count": 17,
   "metadata": {},
   "outputs": [],
   "source": [
    "p1_sacs = pd.read_csv(\"SACS/P1_tubingen/P1_SACS_3.csv\", sep=\"\\t\")\n",
    "p2_sacs = pd.read_csv(\"SACS/P2_montreal/P2_Montreal_variant_collection.SACS.tsv\", sep=\"\\t\")\n",
    "p3_sacs = pd.read_csv(\"SACS/P3_nijmegen/P3_Nijmegen_variant_collection.SACS.final.csv\", sep=\"\\t\")\n",
    "p4_sacs = pd.read_csv(\"SACS/P4_pisa/P4_SACS_variant_collection.JUNE_cleaned_5.final.tsv\", sep=\"\\t\")\n",
    "p6_sacs = pd.read_csv(\"SACS/P6_istanbul/P6_SACS_collection.final_4.txt\", sep=\"\\t\")\n",
    "p7_sacs = pd.read_csv(\"SACS/P7_paris/P7_SACS_data_collection_Paris_v3.csv\", sep=\"\\t\")\n"
   ]
  },
  {
   "cell_type": "code",
   "execution_count": 18,
   "metadata": {},
   "outputs": [],
   "source": [
    "# unify column names\n",
    "for table in [p2_sacs, p3_sacs, p4_sacs, p6_sacs, p7_sacs]:\n",
    "    table.columns = p1_sacs.columns\n",
    "    "
   ]
  },
  {
   "cell_type": "code",
   "execution_count": 19,
   "metadata": {},
   "outputs": [],
   "source": [
    "# concat all SACS tables\n",
    "all_table = p1_sacs.append([p2_sacs, p3_sacs, p4_sacs, p6_sacs, p7_sacs])"
   ]
  },
  {
   "cell_type": "code",
   "execution_count": 20,
   "metadata": {
    "scrolled": true
   },
   "outputs": [],
   "source": [
    "# unify columns content\n",
    "def clean_hom_het(x):\n",
    "    if x in [\"homozygous\", \"HOM\", \"hom\"]:\n",
    "        x = \"Hom\"\n",
    "    elif x in [\"heterozygous\", \"het\"]:\n",
    "        x = \"Het\"\n",
    "    else:\n",
    "         pass\n",
    "    return x\n",
    "\n",
    "all_table['Het / Hom'] = all_table['Het / Hom'].apply(lambda x: clean_hom_het(x))\n",
    "\n",
    "# all_table[\"Chromosome\\n(genome build hg19 / GRCh37)\"] = all_table[\"Chromosome\\n(genome build hg19 / GRCh37)\"].astype(int)\n"
   ]
  },
  {
   "cell_type": "code",
   "execution_count": 21,
   "metadata": {},
   "outputs": [
    {
     "data": {
      "text/plain": [
       "379"
      ]
     },
     "execution_count": 21,
     "metadata": {},
     "output_type": "execute_result"
    }
   ],
   "source": [
    "# number of unique sample\n",
    "len(all_table[\"local subject ID\"].unique())"
   ]
  },
  {
   "cell_type": "code",
   "execution_count": 22,
   "metadata": {},
   "outputs": [
    {
     "data": {
      "text/plain": [
       "307"
      ]
     },
     "execution_count": 22,
     "metadata": {},
     "output_type": "execute_result"
    }
   ],
   "source": [
    "len(all_table[\"Protein position\"].unique())"
   ]
  },
  {
   "cell_type": "code",
   "execution_count": 23,
   "metadata": {},
   "outputs": [],
   "source": [
    "all_table[\"Variant_based_id\"] = all_table[[\"Chromosome\\n(genome build hg19 / GRCh37)\", \"Position\\n(use vcf format)\", \"Reference allele\", \"Alternative allele\"]].apply(lambda x: \"-\".join(x.values.astype(str)), axis=1)"
   ]
  },
  {
   "cell_type": "code",
   "execution_count": 24,
   "metadata": {},
   "outputs": [
    {
     "data": {
      "text/plain": [
       "409"
      ]
     },
     "execution_count": 24,
     "metadata": {},
     "output_type": "execute_result"
    }
   ],
   "source": [
    "len(all_table[\"Variant_based_id\"].unique())"
   ]
  },
  {
   "cell_type": "code",
   "execution_count": 25,
   "metadata": {},
   "outputs": [],
   "source": [
    "all_table.to_csv(\"SACS/SACS_all_partners.tsv\", sep=\"\\t\", index=False)"
   ]
  },
  {
   "cell_type": "code",
   "execution_count": 30,
   "metadata": {},
   "outputs": [],
   "source": [
    "all_table = pd.read_csv(\"SACS/SACS_all_partners.finaledit.csv\", sep=\"\\t\")"
   ]
  },
  {
   "cell_type": "code",
   "execution_count": 31,
   "metadata": {},
   "outputs": [],
   "source": [
    "import numpy as np\n",
    "\n",
    "groups_variant = all_table.groupby([\"Variant_based_id\"])\n",
    "\n",
    "dict_v_id_count = {}\n",
    "for i in range(len(groups_variant.size())):\n",
    "    var = groups_variant.size().index[i]\n",
    "    count = groups_variant.size()[i]\n",
    "    dict_v_id_count[var] = count\n",
    "\n",
    "with open(\"header_custom_vcf\", \"w\") as f:\n",
    "    f.write(\"##fileformat=VCFv4.2\\n\")\n",
    "    f.write('##INFO=<ID=NBCOUNT,Number=1,Type=Integer,Description=\"Number of Samples With Data\">\\n')\n",
    "    f.write('##FORMAT=<ID=GT,Number=1,Type=String,Description=\"Genotype\">\\n')\n",
    "    f.write(\"##contig=<ID=13,length=115169878>\\n\")\n",
    "    f.write('#CHROM\\tPOS\\tID\\tREF\\tALT\\tQUAL\\tFILTER\\tINFO\\tFORMAT\\tSAMPLE\\n')\n",
    "with open(\"SACS_all_prospax_var_vcf\", \"w\") as f:\n",
    "    for v in dict_v_id_count:\n",
    "        v_def = v.split(\"-\")\n",
    "        chrom = v_def[0]\n",
    "        pos = v_def[1]\n",
    "        ide = v\n",
    "        ref = v_def[2]\n",
    "        alt = v_def[3]\n",
    "        qual = 30\n",
    "        filt = \"PASS\"\n",
    "        info = \"NBCOUNT=\"+str(dict_v_id_count[v])\n",
    "        frmt = \"GT\"\n",
    "        res = \"1/1\"\n",
    "        \n",
    "        f.write(\"{}\\t{}\\t{}\\t{}\\t{}\\t{}\\t{}\\t{}\\t{}\\t{}\\n\".format(chrom, pos, ide, ref, alt, qual, filt, info, frmt, res))\n",
    "        "
   ]
  },
  {
   "cell_type": "code",
   "execution_count": 12,
   "metadata": {},
   "outputs": [],
   "source": [
    "from cyvcf2 import VCF\n",
    "\n",
    "vcf_sacs = VCF(\"SACS/SACS_all_prospax.annotated.vcf\")\n",
    "\n",
    "\n",
    "sacs_hgvsp = {}\n",
    "for variant in vcf_sacs:\n",
    "    vep_annot = variant.INFO.get(\"CSQ\")\n",
    "    for tr in vep_annot.split(\",\"):\n",
    "        tr_annot = tr.split(\"|\")\n",
    "        if tr_annot[6]==\"ENST00000382298.3\":\n",
    "            prot_desc = tr_annot[11]\n",
    "            if prot_desc!=\"\":\n",
    "                csq = tr_annot[1]\n",
    "                sacs_hgvsp[prot_desc.replace(\"%3D\", \"=\")] = csq\n",
    "                \n",
    "            \n",
    "            \n",
    "        \n",
    "    "
   ]
  },
  {
   "cell_type": "code",
   "execution_count": 13,
   "metadata": {},
   "outputs": [],
   "source": [
    "with open(\"SACS/sacs_all_hgvsp.txt\", \"w\") as f:\n",
    "    f.write(\"Hugo_Symbol\\tProtein_Change\\tMutation_Type\\n\")\n",
    "    for p in sacs_hgvsp:\n",
    "        p_clean = p.split(\":\")[1]\n",
    "        f.write(\"SACS\\t{}\\t{}\\n\".format(p_clean, sacs_hgvsp[p]))"
   ]
  },
  {
   "cell_type": "code",
   "execution_count": null,
   "metadata": {},
   "outputs": [],
   "source": []
  },
  {
   "cell_type": "markdown",
   "metadata": {},
   "source": [
    "# SPG7"
   ]
  },
  {
   "cell_type": "code",
   "execution_count": 2,
   "metadata": {},
   "outputs": [],
   "source": [
    "p1_spg7 = pd.read_csv(\"SPG7/P1_tubingen/P1_SPG7_2.csv\", sep=\"\\t\")\n",
    "p2_spg7 = pd.read_csv(\"SPG7/P2_montreal/P2_Montreal_variant_collection.SPG7\", sep=\"\\t\")\n",
    "p3_spg7 = pd.read_csv(\"SPG7/P3_nijmegen/P3_Nijmegen_variant_collection.SPG7.final.csv\", sep=\"\\t\")\n",
    "p4_spg7 = pd.read_csv(\"SPG7/P4_pisa/P4_SPG7_variant_collection.JUNE_cleaned_5.final.tsv\", sep=\"\\t\")\n",
    "p6_spg7 = pd.read_csv(\"SPG7/P6_istanbul/P6_SPG7_collection.final_4.txt\", sep=\"\\t\")\n",
    "p7_spg7 = pd.read_csv(\"SPG7/P7_paris/P6_SPG7_data_collection_Paris_final.csv\", sep=\"\\t\")\n"
   ]
  },
  {
   "cell_type": "code",
   "execution_count": 3,
   "metadata": {},
   "outputs": [],
   "source": [
    "# unify column names\n",
    "for table in [p2_spg7, p3_spg7, p4_spg7, p6_spg7, p7_spg7]:\n",
    "    table.columns = p1_spg7.columns\n",
    "    \n",
    "    "
   ]
  },
  {
   "cell_type": "code",
   "execution_count": 4,
   "metadata": {},
   "outputs": [],
   "source": [
    "# concat all SPG7 tables\n",
    "all_table_spg7 = p1_spg7.append([p2_spg7, p3_spg7, p4_spg7, p6_spg7, p7_spg7])"
   ]
  },
  {
   "cell_type": "code",
   "execution_count": 5,
   "metadata": {},
   "outputs": [
    {
     "data": {
      "text/plain": [
       "array(['homozygous', 'heterozygous', 'Hom', 'Het', 'HOM'], dtype=object)"
      ]
     },
     "execution_count": 5,
     "metadata": {},
     "output_type": "execute_result"
    }
   ],
   "source": [
    "all_table_spg7[\"Het / Hom\"].unique()"
   ]
  },
  {
   "cell_type": "code",
   "execution_count": 6,
   "metadata": {},
   "outputs": [],
   "source": [
    "# unify columns content\n",
    "def clean_hom_het(x):\n",
    "    if x in [\"homozygous\", \"HOM\", \"hom\"]:\n",
    "        x = \"Hom\"\n",
    "    elif x in [\"heterozygous\", \"het\"]:\n",
    "        x = \"Het\"\n",
    "    else:\n",
    "         pass\n",
    "    return x\n",
    "\n",
    "all_table_spg7['Het / Hom'] = all_table_spg7['Het / Hom'].apply(lambda x: clean_hom_het(x))\n",
    "\n",
    "# all_table[\"Chromosome\\n(genome build hg19 / GRCh37)\"] = all_table[\"Chromosome\\n(genome build hg19 / GRCh37)\"].astype(int)\n"
   ]
  },
  {
   "cell_type": "code",
   "execution_count": 7,
   "metadata": {},
   "outputs": [
    {
     "data": {
      "text/plain": [
       "Index(['Submitting institution\\n(select from dropdown)', 'local subject ID',\n",
       "       'local family ID', 'PROSPAX subject ID',\n",
       "       'NGS database ID (e.g. GENESIS, GPAP, etc)',\n",
       "       'Main phenotype \\n(select from dropdown)',\n",
       "       'Case solved? \\n(solved SPG7 / solved other gene / unsure / not solved)',\n",
       "       'Variant ID \\n(consecutive number)', 'Gene',\n",
       "       'Chromosome\\n(genome build hg19 / GRCh37)',\n",
       "       'Position\\n(use vcf format)', 'Reference allele', 'Alternative allele',\n",
       "       'Transcript\\n(use reference transcript ENST00000268704.2)',\n",
       "       'cDNA change (e.g. ', 'Protein position', 'Het / Hom',\n",
       "       'Compound heterozygous with Variant ID\\n(enter variant ID, 'N/A' or 'unknown')',\n",
       "       'PaxGene available?\\n(yes / no / unknown)',\n",
       "       'PBMC available?\\n(yes / no / unknown)',\n",
       "       'Fibroblasts available?\\n(yes / no / unknown)', 'Comment'],\n",
       "      dtype='object')"
      ]
     },
     "execution_count": 7,
     "metadata": {},
     "output_type": "execute_result"
    }
   ],
   "source": [
    "all_table_spg7.columns"
   ]
  },
  {
   "cell_type": "code",
   "execution_count": 8,
   "metadata": {},
   "outputs": [],
   "source": [
    "    \n",
    "all_table_spg7[\"Variant_based_id\"] = all_table_spg7[['Chromosome\\n(genome build hg19 / GRCh37)', 'Position\\n(use vcf format)', \"Reference allele\", \"Alternative allele\"]].apply(lambda x: \"-\".join(x.values.astype(str)), axis=1)"
   ]
  },
  {
   "cell_type": "code",
   "execution_count": 9,
   "metadata": {},
   "outputs": [
    {
     "data": {
      "text/plain": [
       "316"
      ]
     },
     "execution_count": 9,
     "metadata": {},
     "output_type": "execute_result"
    }
   ],
   "source": [
    "len(all_table_spg7[\"Variant_based_id\"].unique())"
   ]
  },
  {
   "cell_type": "code",
   "execution_count": 10,
   "metadata": {},
   "outputs": [],
   "source": [
    "all_table_spg7.to_csv(\"SPG7/SPG7_all_partners.tsv\", sep=\"\\t\", index=False)"
   ]
  },
  {
   "cell_type": "code",
   "execution_count": null,
   "metadata": {},
   "outputs": [],
   "source": []
  },
  {
   "cell_type": "code",
   "execution_count": 121,
   "metadata": {},
   "outputs": [],
   "source": [
    "import numpy as np\n",
    "\n",
    "groups_variant_spg7 = all_table_spg7.groupby([\"Variant_based_id\"])\n",
    "\n",
    "dict_v_id_count = {}\n",
    "for i in range(len(groups_variant_spg7.size())):\n",
    "    var = groups_variant_spg7.size().index[i]\n",
    "    count = groups_variant_spg7.size()[i]\n",
    "    dict_v_id_count[var] = count\n",
    "\n",
    "with open(\"header_custom_vcf\", \"w\") as f:\n",
    "    f.write(\"##fileformat=VCFv4.2\\n\")\n",
    "    f.write('##INFO=<ID=NBCOUNT,Number=1,Type=Integer,Description=\"Number of Samples With Data\">\\n')\n",
    "    f.write('##FORMAT=<ID=GT,Number=1,Type=String,Description=\"Genotype\">\\n')\n",
    "    \n",
    "with open(\"SPG7_all_prospax_var_vcf\", \"w\") as f:\n",
    "    for v in dict_v_id_count:\n",
    "        v_def = v.split(\"-\")\n",
    "        chrom = v_def[0]\n",
    "        pos = v_def[1]\n",
    "        ide = v\n",
    "        ref = v_def[2]\n",
    "        alt = v_def[3]\n",
    "        qual = 30\n",
    "        filt = \"PASS\"\n",
    "        info = \"NBCOUNT=\"+str(dict_v_id_count[v])\n",
    "        frmt = \"GT\"\n",
    "        res = \"./.\"\n",
    "        \n",
    "        f.write(\"{}\\t{}\\t{}\\t{}\\t{}\\t{}\\t{}\\t{}\\t{}\\t{}\\n\".format(chrom, pos, ide, ref, alt, qual, filt, info, frmt, res))\n",
    "        "
   ]
  },
  {
   "cell_type": "code",
   "execution_count": 1,
   "metadata": {},
   "outputs": [],
   "source": [
    "from cyvcf2 import VCF\n",
    "\n",
    "vcf_spg7 = VCF(\"SPG7/SPG7_all_prospax.annotated.vcf\")\n",
    "\n",
    "\n",
    "spg7_hgvsp = {}\n",
    "for variant in vcf_spg7:\n",
    "    vep_annot = variant.INFO.get(\"CSQ\")\n",
    "    for tr in vep_annot.split(\",\"):\n",
    "        tr_annot = tr.split(\"|\")\n",
    "        if tr_annot[6]==\"ENST00000268704.2\":\n",
    "            prot_desc = tr_annot[11]\n",
    "            if prot_desc!=\"\":\n",
    "                csq = tr_annot[1]\n",
    "                spg7_hgvsp[prot_desc.replace(\"%3D\", \"=\")] = csq\n",
    "                \n",
    "            "
   ]
  },
  {
   "cell_type": "code",
   "execution_count": 2,
   "metadata": {},
   "outputs": [],
   "source": [
    "with open(\"SPG7/spg7_all_hgvsp.txt\", \"w\") as f:\n",
    "    f.write(\"Hugo_Symbol\\tProtein_Change\\tMutation_Type\\n\")\n",
    "    for p in spg7_hgvsp:\n",
    "        p_clean = p.split(\":\")[1]\n",
    "        f.write(\"SPG7\\t{}\\t{}\\n\".format(p_clean, spg7_hgvsp[p]))"
   ]
  },
  {
   "cell_type": "code",
   "execution_count": null,
   "metadata": {},
   "outputs": [],
   "source": []
  },
  {
   "cell_type": "code",
   "execution_count": 14,
   "metadata": {},
   "outputs": [
    {
     "name": "stdout",
     "output_type": "stream",
     "text": [
      "False\n"
     ]
    }
   ],
   "source": [
    "variable_1 = 23\n",
    "\n",
    "variable_2 = \"chr1\"\n",
    "\n",
    "\n",
    "print(isinstance(variable_2, int))"
   ]
  }
 ],
 "metadata": {
  "kernelspec": {
   "display_name": "Python 3",
   "language": "python",
   "name": "python3"
  },
  "language_info": {
   "codemirror_mode": {
    "name": "ipython",
    "version": 3
   },
   "file_extension": ".py",
   "mimetype": "text/x-python",
   "name": "python",
   "nbconvert_exporter": "python",
   "pygments_lexer": "ipython3",
   "version": "3.7.4"
  }
 },
 "nbformat": 4,
 "nbformat_minor": 2
}
